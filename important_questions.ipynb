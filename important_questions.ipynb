{
 "cells": [
  {
   "cell_type": "markdown",
   "id": "4d07178a",
   "metadata": {},
   "source": [
    "# What is github ? \n",
    "GitHub is a highly used software that is typically used for version control.it is helpful when more than just one person is working on a project.for example,a software developer team wants to build a website and everyone has to update their codes simultaneusly while working on the project. In this case , GitHub helps them to build a centralized repository where everyone\n",
    "can upload,edit,and manage the code files."
   ]
  },
  {
   "cell_type": "code",
   "execution_count": null,
   "id": "9e150a93",
   "metadata": {},
   "outputs": [],
   "source": []
  },
  {
   "cell_type": "code",
   "execution_count": null,
   "id": "c8ffd8d0",
   "metadata": {},
   "outputs": [],
   "source": []
  },
  {
   "cell_type": "code",
   "execution_count": null,
   "id": "771be251",
   "metadata": {},
   "outputs": [],
   "source": []
  },
  {
   "cell_type": "code",
   "execution_count": null,
   "id": "c9ffe6f5",
   "metadata": {},
   "outputs": [],
   "source": []
  },
  {
   "cell_type": "markdown",
   "id": "46c924de",
   "metadata": {},
   "source": [
    "1) What is Python?\n",
    "\n",
    "2) Why Python?\n",
    "\n",
    "3) What are the applications of Python?\n",
    "\n",
    "4) What are the advantages of Python?\n",
    "\n",
    "5) What is swapcase() function in the Python?\n",
    "\n",
    "6) How to remove whitespaces from a string in Python?\n",
    "\n",
    "7) What is tuple in Python?\n",
    "\n",
    "8) What is an operator in Python?\n",
    "\n",
    "9) What are the different types of operators in Python?\n",
    "\n",
    "10) is Python interpreted language? "
   ]
  },
  {
   "cell_type": "markdown",
   "id": "28a5bdb1",
   "metadata": {},
   "source": [
    "# Quizzes"
   ]
  },
  {
   "cell_type": "code",
   "execution_count": 1,
   "id": "096e22ad",
   "metadata": {},
   "outputs": [
    {
     "name": "stdout",
     "output_type": "stream",
     "text": [
      "e\n"
     ]
    }
   ],
   "source": [
    "# what is correct syntax to output hello in python\n",
    "a=\"welcome\"\n",
    "print(a[1])"
   ]
  },
  {
   "cell_type": "code",
   "execution_count": 2,
   "id": "8a2fd7bc",
   "metadata": {},
   "outputs": [
    {
     "data": {
      "text/plain": [
       "512"
      ]
     },
     "execution_count": 2,
     "metadata": {},
     "output_type": "execute_result"
    }
   ],
   "source": [
    "(2**3**2)"
   ]
  },
  {
   "cell_type": "code",
   "execution_count": null,
   "id": "4c41916a",
   "metadata": {},
   "outputs": [],
   "source": [
    "2**3**2 \n",
    "2 pow (3 pow 2)\n",
    "2 pow 9\n",
    "512\n"
   ]
  },
  {
   "cell_type": "code",
   "execution_count": 4,
   "id": "3435784a",
   "metadata": {},
   "outputs": [
    {
     "name": "stdout",
     "output_type": "stream",
     "text": [
      "{40, 10, '10', 50, 20, 60, 30}\n"
     ]
    }
   ],
   "source": [
    "set1={10,20,30,40}\n",
    "set2={50,20,\"10\",60}\n",
    "set3=set1.union(set2)\n",
    "print(set3)"
   ]
  },
  {
   "cell_type": "code",
   "execution_count": 5,
   "id": "124c7783",
   "metadata": {},
   "outputs": [
    {
     "name": "stdout",
     "output_type": "stream",
     "text": [
      "<class 'range'>\n"
     ]
    }
   ],
   "source": [
    "print(type(range(5)))"
   ]
  },
  {
   "cell_type": "code",
   "execution_count": 8,
   "id": "775285e0",
   "metadata": {},
   "outputs": [
    {
     "name": "stdout",
     "output_type": "stream",
     "text": [
      "125.0\n"
     ]
    }
   ],
   "source": [
    "x=\"125\"\n",
    "print(float(x))"
   ]
  },
  {
   "cell_type": "code",
   "execution_count": 3,
   "id": "b35f02f5",
   "metadata": {},
   "outputs": [
    {
     "ename": "SyntaxError",
     "evalue": "invalid syntax (2328975999.py, line 2)",
     "output_type": "error",
     "traceback": [
      "\u001b[1;36m  File \u001b[1;32m\"C:\\Users\\91852\\AppData\\Local\\Temp\\ipykernel_12384\\2328975999.py\"\u001b[1;36m, line \u001b[1;32m2\u001b[0m\n\u001b[1;33m    2 pow (3 pow 2)\u001b[0m\n\u001b[1;37m      ^\u001b[0m\n\u001b[1;31mSyntaxError\u001b[0m\u001b[1;31m:\u001b[0m invalid syntax\n"
     ]
    }
   ],
   "source": [
    "2**3**2 \n",
    "2 pow (3 pow 2)\n",
    "2 pow 9\n",
    "512\n"
   ]
  },
  {
   "cell_type": "code",
   "execution_count": null,
   "id": "6469143f",
   "metadata": {},
   "outputs": [],
   "source": []
  },
  {
   "cell_type": "markdown",
   "id": "e5ae9d91",
   "metadata": {},
   "source": [
    "Choose the correct way to access 'c' from the following list list=[1,2,3,[2,3,4,['a','c',['b','c']]]]"
   ]
  },
  {
   "cell_type": "code",
   "execution_count": null,
   "id": "d786a505",
   "metadata": {},
   "outputs": [],
   "source": [
    "list=[1,2,3,[2,3,4,['a','c',['b','c']]]]\n",
    "print(list[3][3][2][1])\n",
    "    "
   ]
  },
  {
   "cell_type": "code",
   "execution_count": 17,
   "id": "967eb2d6",
   "metadata": {},
   "outputs": [],
   "source": [
    "list1 = [10, 20, [300, 400, [5000, 6000], 500], 30, 40]\n",
    "\n",
    "# understand indexing\n",
    "list1[0] = 10\n",
    "list1[1] = 20\n",
    "list1[2] = [300, 400, [5000, 6000], 500]\n",
    "list1[2][2] = [5000, 6000]\n",
    "list1[2][2][1] = 6000"
   ]
  },
  {
   "cell_type": "code",
   "execution_count": 16,
   "id": "9dc8b62a",
   "metadata": {},
   "outputs": [
    {
     "name": "stdout",
     "output_type": "stream",
     "text": [
      "r\n"
     ]
    }
   ],
   "source": [
    "x=\"current\"\n",
    "print(x[2])"
   ]
  },
  {
   "cell_type": "markdown",
   "id": "736ab448",
   "metadata": {},
   "source": [
    "Choose the correct function from the following list to get the random integer between 99 to 200, which is divisible by 3."
   ]
  },
  {
   "cell_type": "code",
   "execution_count": 25,
   "id": "64fd464c",
   "metadata": {},
   "outputs": [
    {
     "name": "stdout",
     "output_type": "stream",
     "text": [
      "12\n",
      "11\n"
     ]
    }
   ],
   "source": [
    "a=11\n",
    "b=12\n",
    "a,b=b,a\n",
    "print(a)\n",
    "print(b)"
   ]
  },
  {
   "cell_type": "code",
   "execution_count": 3,
   "id": "3984e7fa",
   "metadata": {},
   "outputs": [
    {
     "name": "stdout",
     "output_type": "stream",
     "text": [
      "enter number:1\n",
      "enter number:2\n",
      "12\n"
     ]
    }
   ],
   "source": [
    "x=input(\"enter number:\")\n",
    "y=input(\"enter number:\")\n",
    "\n",
    "print(x+y)"
   ]
  },
  {
   "cell_type": "code",
   "execution_count": 4,
   "id": "13b5fb6e",
   "metadata": {},
   "outputs": [
    {
     "name": "stdout",
     "output_type": "stream",
     "text": [
      "91\n",
      "1\n"
     ]
    }
   ],
   "source": [
    "from random import *\n",
    "\n",
    "print(randint(1, 100)) \n",
    "print(x)\n"
   ]
  },
  {
   "cell_type": "markdown",
   "id": "986c52ba",
   "metadata": {},
   "source": [
    "ASSIGNMENT 1\n",
    "\n",
    "Implement a python program that will input student details, marks in 5 subjects and calculates the percentage scored by student.\n",
    "\n",
    "Requirements:\n",
    "\n",
    "The program should ask the student for name and roll number.\n",
    "Validate if name is a string and roll number is an integer, if not, show an error message saying “Invalid name/roll number” and ask for the value again after that.\n",
    "\n",
    "Once you have the name and roll number the program should ask for score in 5 subjects in order: English, Hindi, Maths, Science, Social Science\n",
    "Score must be within 1-100 otherwise show an error ‘Invalid score’ and ask for the subject score again.\n",
    "\n",
    "After getting score for all the subjects calculate the percentage of student up to 2 decimal places and show the result in following format:\n",
    "Format:\n",
    "\n",
    "Roll no.: [Roll number]\n",
    "\n",
    "Name: [Name]\n",
    "\n",
    "English: [English score]\n",
    "\n",
    "Hindi: [Hindi score]\n",
    "\n",
    "… and similarly for other 3 subjects\n",
    "\n",
    "Percentage: [Percentage]\n",
    "\n",
    "Result: [Pass/Fail]\n",
    "\n",
    "If the score is under 36% show the Result as Fail else show Pass."
   ]
  },
  {
   "cell_type": "code",
   "execution_count": null,
   "id": "cecbdbb1",
   "metadata": {},
   "outputs": [],
   "source": [
    "name=input(\"Enter Student Name : \")\n",
    "\n",
    "roll_no=int(input(\"Enter Student Roll no : \"))\n",
    "\n",
    "english=int(input(\"Enter Marks of english : \"))\n",
    "\n",
    "hindi=int(input(\"Enter Marks of hindi : \"))\n",
    "\n",
    "maths=int(input(\"Enter Marks of maths : \"))\n",
    "\n",
    "science=int(input(\"Enter Marks of science : \"))\n",
    "\n",
    "social=int(input(\"Enter Marks of social : \"))\n",
    "\n",
    "print(\"_______________Information Gatherings________________\")\n",
    "\n",
    "print(\"english : \" ,english )\n",
    "\n",
    "print(\"hindi : \" ,hindi)\n",
    "\n",
    "print(\" maths : \", maths)\n",
    "\n",
    "print(\"science: \",science)\n",
    "\n",
    "print(\"social: \",social)\n",
    "\n",
    "per=(((english+hindi+maths+science+social)/500)*100)\n",
    "if range(1,100):\n",
    "    print(\"valid\")\n",
    "else:\n",
    "    print(\"invalid\")\n",
    "\n",
    "print(\"Percentage Of Student is : \" ,per)\n",
    "\n",
    "\n",
    "if per>=36: \n",
    "    print('You have passed!') \n",
    "else: \n",
    "    print('You have failed') "
   ]
  },
  {
   "cell_type": "markdown",
   "id": "252c51c8",
   "metadata": {},
   "source": [
    "Assignment 2\n",
    "\n",
    "write a program that accepts 2 lists of 5 elements each and checks whether both lists have the same values/entries\n",
    "\n",
    "for ex: [1,3,5] and [3,5,1]\n",
    "\n",
    "Display \"yes\" or \"No\" as the result depending on whether they have the same entriesor not\n",
    "\n",
    "implement using\n",
    "\n",
    "a)Dictionary\n",
    "\n",
    "b) set\n",
    "\n",
    "c)No other data structures"
   ]
  },
  {
   "cell_type": "code",
   "execution_count": null,
   "id": "3a68814d",
   "metadata": {},
   "outputs": [],
   "source": [
    "list_1 = []\n",
    "print(\"==========Enter elements into first list==========\")\n",
    "for i in range(5):\n",
    "    element = int(input())\n",
    "    list_1.append(element)\n",
    "    \n",
    "print(\"==========Enter elements into second list==========\")\n",
    "list_2 = []\n",
    "for i in range(5):\n",
    "    element = int(input())\n",
    "    list_2.append(element)\n",
    "\n",
    "if list_1==list_2:\n",
    "    print(\"Yess... twi lists having same elements\")\n",
    "else:\n",
    "    print(\"This two lists are not same\")"
   ]
  },
  {
   "cell_type": "code",
   "execution_count": null,
   "id": "ae15c26a",
   "metadata": {},
   "outputs": [],
   "source": [
    "dic1={\"a\":1,\"b\":2}\n",
    "dic2={\"a\":1,\"b\":2}\n",
    "if dic1==dic2:\n",
    "    print(\"Two dictionaries are same\")\n",
    "    \n",
    "else:\n",
    "    print(\"two dictionaries are not same\")"
   ]
  },
  {
   "cell_type": "code",
   "execution_count": null,
   "id": "fc0d6294",
   "metadata": {},
   "outputs": [],
   "source": [
    "set1={1,2,3,4}\n",
    "set2={1,2,2,3,4,1,3,}\n",
    "if set1==set2:\n",
    "    print(\"Two sets are same\")\n",
    "    \n",
    "else:\n",
    "    print(\"two sets are not same\")"
   ]
  },
  {
   "cell_type": "code",
   "execution_count": null,
   "id": "f1ee1a3a",
   "metadata": {},
   "outputs": [],
   "source": [
    "l1=[1,2,3,4,5]\n",
    "l2=[4,5,3,1,2]\n",
    "if l1== l2:\n",
    "    print(\"yes\")\n",
    "else:\n",
    "    print(\"NO\")"
   ]
  },
  {
   "cell_type": "markdown",
   "id": "9c84ea41",
   "metadata": {},
   "source": [
    "1) What is a dictionary in Python? 2) What is the difference between lists and tuples? 3) Define String in Python? 4) Define slicing in Python? 5) What is a boolean in Python? 6) What are Dict and List comprehensions in Python? 7) Why do we use the split method in Python? 8) How do we reverse a list in Python? 9) Write a program to count the number of capital letters in a file? 10) What is the difference between remove() function and del statement?\n",
    "\n",
    "1) create list,Reverse a list in Python 2) create list,Concatenate two lists 3) create list,Turn every item of a list into its square 4) write a program to Sort List using sort() 5) create list and find the Length of a List? 6) Create a dictionary by extracting the keys from a given dictionary? 7) create dictionary ,Check if a value exists in a dictionary? 8) Unpack the tuple into 4 variables 9) Copy specific elements from one tuple to a new tuple? 10) create tuple, Counts the number of occurrences of items from a tuple? 11) Write a program to add all its elements into a given set. 12) Write a Python program to return a new set with unique items from both sets by removing duplicates."
   ]
  },
  {
   "cell_type": "markdown",
   "id": "64332c9b",
   "metadata": {},
   "source": [
    "\"2. Write a program that keeps taking user input for password until ‘Enter’ key is pressed and then checks password with following validation: At least 9 characters Contains 1 uppercase and 1 lowercase letter at least Contains one number at least Contains one special character at least and it should be one of the allowed special characters [$, _ , %] If password is incorrect show related error else show a success message.\""
   ]
  },
  {
   "cell_type": "code",
   "execution_count": null,
   "id": "42d870e0",
   "metadata": {},
   "outputs": [],
   "source": [
    "list1=[1,2,3,4]\n",
    "list2=[1,2,3,4]\n",
    "if list1==list2:\n",
    "    print(\"the list1 and list2 is same\")\n",
    "else:\n",
    "    print(\"the list1 and list2 is not same\")"
   ]
  },
  {
   "cell_type": "markdown",
   "id": "1e154b53",
   "metadata": {},
   "source": [
    "# 3.B.1: ASSIGNMENT\n",
    "\n",
    "PROBLEM STATEMENT\n",
    "\n",
    "1. Write a program that takes a number N as input from the user and prints pascal’s triangle of N height/steps. \n",
    "\n",
    "Pascal's triangle is a triangular array constructed by summing adjacent elements in preceding rows.\n",
    "\n",
    "For example if N = 4\n",
    "          1\n",
    "\n",
    "         1 1\n",
    "\n",
    "       1  2  1\n",
    "\n",
    "     1  3  3  1"
   ]
  },
  {
   "cell_type": "code",
   "execution_count": 2,
   "id": "f16cf940",
   "metadata": {},
   "outputs": [
    {
     "name": "stdout",
     "output_type": "stream",
     "text": [
      "Enter the number of rows:4\n",
      "    1\n",
      "   1 1\n",
      "  1 2 1\n",
      " 1 3 3 1\n"
     ]
    }
   ],
   "source": [
    "# input n  \n",
    "n = int(input(\"Enter the number of rows:\"))  \n",
    "  \n",
    "# iterarte upto n  \n",
    "for i in range(n):  \n",
    "   # adjust space  \n",
    "   print(' '*(n-i), end='')  \n",
    "  \n",
    "   # compute power of 11  \n",
    "   print(' '.join(map(str, str(11**i))))  "
   ]
  },
  {
   "cell_type": "markdown",
   "id": "80cd1654",
   "metadata": {},
   "source": [
    "2. Write a program that keeps taking user input for password until ‘Enter’ key is pressed and then checks password with following validation:\n",
    "\n",
    "At least 9 characters\n",
    "\n",
    "Contains 1 uppercase and 1 lowercase letter at least\n",
    "\n",
    "Contains one number at least\n",
    "\n",
    "Contains one special character at least and it should be one of the allowed special characters [$, _ , %]\n",
    "\n",
    "If password is incorrect show related error else show a success message.\n",
    "\n"
   ]
  },
  {
   "cell_type": "code",
   "execution_count": null,
   "id": "80d9bc8c",
   "metadata": {},
   "outputs": [],
   "source": [
    "def validate():\n",
    "    while True:\n",
    "        password = input(\"Enter a password: \")\n",
    "        if len(password) < 9:\n",
    "            print(\"Make sure your password is at lest 8 letters\")\n",
    "        elif not password.isdigit():\n",
    "            print(\"Make sure your password has a number in it\")\n",
    "        elif not password.isupper(): \n",
    "            print(\"Make sure your password has a capital letter in it\")\n",
    "        else:\n",
    "            print(\"Your password seems fine\")\n",
    "            break\n",
    "\n",
    "validate()"
   ]
  },
  {
   "cell_type": "markdown",
   "id": "7c4fe131",
   "metadata": {},
   "source": [
    "3.B.2: ASSIGNMENT\n",
    "\n",
    "PROBLEM STATEMENT\n",
    "\n",
    "1. Write a program that :\n",
    "\n",
    "Takes a list of cities as input (ask user if they want to add more city after each entry i.e. once user presses ‘Enter’)\n",
    "\n",
    "Creates a folder in pwd (present working directory) named ‘cities’, then creates a file with names as first characters of cities and write the names of all the cities starting with that character\n",
    "\n",
    "\n",
    "Example:\n",
    "User input: Bangalore, Mumbai, Ajmer, Alwar, Banaras, Chittor, Chennai\n",
    "\n",
    "Then the present working directory must have:\n",
    "Cities(directory/folder)\n",
    "\n",
    "-> A.txt  \n",
    "\n",
    "-> Ajmer\n",
    "\n",
    "-> Alwar\n",
    "\n",
    "-> B.txt\n",
    "\n",
    "-> Bangalore\n",
    "\n",
    "-> Banaras\n",
    "\n",
    "-> C.txt\n",
    "\n",
    "-> Chittor\n",
    "\n",
    "-> Chennai\n",
    "\n",
    "-> M.txt\n",
    "\n",
    "-> Mumbai\n",
    "\n",
    "I.e. Files named A,B,C and M.txt and each of them contain respective city names separated by newline (don’t include the ‘->’ it is used here to denote new line )\n",
    "\n"
   ]
  },
  {
   "cell_type": "markdown",
   "id": "fd3e4fb1",
   "metadata": {},
   "source": [
    "3.B.3: ASSIGNMENT\n",
    "\n",
    "PROBLEM STATEMENT\n",
    "\n",
    "\n",
    "1. Write a function that takes a variable number of lists as input, the lists will contain runs scored by players in an over (i.e. 6 entries). The function should assume the first entry is for Player1, second entry is for Player 2 and so on…\n",
    "\n",
    "\n",
    "How to take a list from the user ?\n",
    "\n",
    "User is supposed to enter scores like: 2,2,4,0,0,6 ‘Enter Key’\n",
    "\n",
    "On enter ask if they want to add scores of another player (y/n), if the user responds with y, they should be able to add another entry.\n",
    "\n",
    "If a user enters less than 6 scores, assume that other balls had no runs scored.\n",
    "\n",
    "If a user enters more than 6 scores, consider only the first 6."
   ]
  },
  {
   "cell_type": "markdown",
   "id": "aae785eb",
   "metadata": {},
   "source": [
    "2. Expect hard coded list in the code itself (leaving the decision on teachers)\n",
    "\n",
    "\n",
    "The function should print the name of players in descending order of their scores (highest first). In case of a tie, the function should call another function (tie_breaker) which returns the player which scored more boundaries as the winner, to decide which player to show first (sixes have higher priority than fours, i.e. 6,4 > 4,4 even when the boundary count is same ) . If boundaries are equal in number, keep them in the order of input."
   ]
  },
  {
   "cell_type": "code",
   "execution_count": null,
   "id": "a3ef0ca7",
   "metadata": {},
   "outputs": [],
   "source": [
    "# 1)\n",
    "numbers = [12, 75, 150, 180, 145, 525, 50]\n",
    "# iterate each item of a list\n",
    "for item in numbers:\n",
    "    if item > 500:\n",
    "        break\n",
    "    elif item > 150:\n",
    "        continue\n",
    "    # check if number is divisible by 5\n",
    "    elif item % 5 == 0:\n",
    "        print(item)"
   ]
  },
  {
   "cell_type": "code",
   "execution_count": null,
   "id": "4be775eb",
   "metadata": {},
   "outputs": [],
   "source": [
    "# 2)\n",
    "list1 = [10, 20, 30, 40, 50]\n",
    "# reverse list\n",
    "new_list = reversed(list1)\n",
    "# iterate reversed list\n",
    "for item in new_list:\n",
    "    print(item)\n",
    "    \n",
    "# 3) for num in range(-10, 0, 1):\n",
    "    print(num)\n",
    "# 4)for i in range(5):\n",
    "    print(i)\n",
    "else:\n",
    "    print(\"Done!\")\n",
    "    "
   ]
  },
  {
   "cell_type": "code",
   "execution_count": null,
   "id": "38af5e8c",
   "metadata": {},
   "outputs": [],
   "source": []
  },
  {
   "cell_type": "code",
   "execution_count": null,
   "id": "0e8ab5d4",
   "metadata": {},
   "outputs": [],
   "source": []
  },
  {
   "cell_type": "markdown",
   "id": "03b4c8ca",
   "metadata": {},
   "source": [
    "1) Display numbers from a list using loop\n",
    "Write a program to display only those numbers from a list that satisfy the following conditions\n",
    "\n",
    "i)The number must be divisible by five\n",
    "ii)If the number is greater than 150, then skip it and move to the next number\n",
    "iii)If the number is greater than 500, then stop the loop\n",
    "\n",
    "2)Print list in reverse order using a loop\n",
    "i)  Using a reversed() function and for loop\n",
    "\n",
    "3) Display numbers from -10 to -1 using for loop\n",
    "i)  Reverse range\n",
    "\n",
    "4)Use else block to display a message “Done” after successful execution of for loop\n",
    "i)For example, the following loop will execute without any error\n"
   ]
  },
  {
   "cell_type": "markdown",
   "id": "bee70f6b",
   "metadata": {},
   "source": [
    "Q) Suppose you just attended a university examination.The marks you obtained in various subjects are stored in a list like this:\n",
    "\n",
    "marks =[55,64,75,80,65] you want to find the average marks you obtained in the exam.And,based on the average marks you want to find your grade.\n",
    "\n",
    "The grading rule is like this\n",
    "\n",
    "you will get Grade A if the average marks is equal to or above 80\n",
    "\n",
    "you will get Grade B if the average marks is equal or above 60 and less than 80\n",
    "\n",
    "you will get Grade C if the average marks is equal or above 50 and less than 60\n",
    "\n",
    "And if the average marks is lessthan 50, you will get Grade F"
   ]
  },
  {
   "cell_type": "markdown",
   "id": "aee47feb",
   "metadata": {},
   "source": [
    "1. define the string and int variables. and try to convert the string into the int.Can we able to  convert every string into int? If can't give expalnation.\n",
    "\n",
    "\n",
    "2. Write a program to accept the string input from the keyboard, and count the number of vowels.\n",
    "\n",
    "\n",
    "3. Define a function that takes list as parameter and return the sum of the even numbers in the list.\n",
    "\n",
    "4. Define a dictionary that takes the subject names as keys, and marks as values. and display the total marks.\n",
    "\n",
    "5. define a list, and perform the following operations:\n",
    "    a) Find maximun element in the list.\n",
    "    b) Find the sum of all elements in the list.\n",
    "    c) Find the product(Multiplication) of all elements in the list."
   ]
  },
  {
   "cell_type": "code",
   "execution_count": 2,
   "id": "8556f2ec",
   "metadata": {},
   "outputs": [
    {
     "name": "stdout",
     "output_type": "stream",
     "text": [
      "Enter string : Shailaja\n",
      "Total vowels are : 4\n"
     ]
    }
   ],
   "source": [
    "#2\n",
    "s= str(input(\"Enter string : \"))\n",
    "count=0\n",
    "\n",
    "for i in s:\n",
    "    if(i==\"a\" or i==\"e\" or i==\"i\" or i==\"o\" or i==\"u\"):\n",
    "        count+=1\n",
    "        \n",
    "print(\"Total vowels are :\",count)\n",
    "        "
   ]
  },
  {
   "cell_type": "code",
   "execution_count": 1,
   "id": "9dae1bd8",
   "metadata": {},
   "outputs": [
    {
     "name": "stdout",
     "output_type": "stream",
     "text": [
      "Testing passing string as parameter\n",
      "welcome\n"
     ]
    }
   ],
   "source": [
    "# passing string as parameter \n",
    "def try_string(str):\n",
    "    print(str)\n",
    "print(\"Testing passing string as parameter\")\n",
    "try_string(\"welcome\")"
   ]
  },
  {
   "cell_type": "code",
   "execution_count": 12,
   "id": "dfb460e2",
   "metadata": {},
   "outputs": [
    {
     "name": "stdout",
     "output_type": "stream",
     "text": [
      "enter number:12,24,46\n",
      "number of even number : 3\n",
      "number of odd number : 0\n"
     ]
    }
   ],
   "source": [
    "# passing list as argument\n",
    "def list_try(lst):\n",
    "    even =0\n",
    "    odd=0\n",
    "    for i in lst:\n",
    "        if i%2==0:\n",
    "            even=even+1\n",
    "        else:\n",
    "            odd=odd+1\n",
    "    return even,odd\n",
    "#lst=[16,23,14,24,26,36,28,47,49,28]\n",
    "lst=eval(input( \"enter number:\"))\n",
    "even,odd=list_try(lst)\n",
    "print(\"number of even number :\",even)\n",
    "print(\"number of odd number :\",odd)"
   ]
  },
  {
   "cell_type": "code",
   "execution_count": 21,
   "id": "82923c3d",
   "metadata": {},
   "outputs": [
    {
     "name": "stdout",
     "output_type": "stream",
     "text": [
      "returning the first value from the tuple : 3\n"
     ]
    }
   ],
   "source": [
    "# tuple \n",
    "def myfun(mytuple):\n",
    "    first,second = mytuple # unpacing\n",
    "    return first\n",
    "y=myfun((3,1))\n",
    "print(\"returning the first value from the tuple :\",y)"
   ]
  },
  {
   "cell_type": "code",
   "execution_count": 24,
   "id": "b7754c4b",
   "metadata": {},
   "outputs": [
    {
     "name": "stdout",
     "output_type": "stream",
     "text": [
      "{101: 'raj', 102: 'ram', 103: 'ravi'}\n",
      "roll : name\n",
      "----- -----\n",
      "101 : raj\n",
      "102 : ram\n",
      "103 : ravi\n"
     ]
    }
   ],
   "source": [
    "# dict\n",
    "def dict_try(d):\n",
    "    print(d)\n",
    "    print(\"roll : name\")\n",
    "    print(\"----- -----\")\n",
    "    for k in d:\n",
    "        print(k,\":\",d[k])\n",
    "names={101:\"raj\",102:\"ram\",103:\"ravi\"}\n",
    "dict_try(names)\n"
   ]
  },
  {
   "cell_type": "code",
   "execution_count": null,
   "id": "eae75b42",
   "metadata": {},
   "outputs": [],
   "source": [
    "#1.what will be the output of the following code?\n",
    "def fun(x):\n",
    "    try:\n",
    "        print(5/x)\n",
    "    except:\n",
    "        print(\"error\")\n",
    "fun(0)\n",
    "\n",
    "\n",
    "#2.what will be the output of the following code?\n",
    "def fun(x):\n",
    "    try:\n",
    "        print(5/x)\n",
    "    except zeroDivisionError:\n",
    "        print(\"except block\")\n",
    "    else:\n",
    "        print(\"else block\")\n",
    "    finally:\n",
    "        print(\"finnaly\")\n",
    "fun(0)\n",
    "\n",
    "\n",
    "#3.what will be the output of the following code?\n",
    "try:\n",
    "    num1 = 7\n",
    "    num2 = 0\n",
    "    print (num1 / num2)\n",
    "    print(“Done calculation”)\n",
    "except ZeroDivisonError:\n",
    "    print(“Infinity”)\n",
    "    \n",
    "    \n",
    "#4.\n",
    "        "
   ]
  },
  {
   "cell_type": "code",
   "execution_count": 1,
   "id": "8dac4515",
   "metadata": {},
   "outputs": [
    {
     "name": "stdout",
     "output_type": "stream",
     "text": [
      "9\n"
     ]
    }
   ],
   "source": [
    "#1. Write a Python program to access a function inside a function.\n",
    "def test(a):\n",
    "        def add(b):\n",
    "                nonlocal a\n",
    "                a += 1\n",
    "                return a+b\n",
    "        return add\n",
    "func= test(4)\n",
    "print(func(4))\n"
   ]
  },
  {
   "cell_type": "markdown",
   "id": "2df70ad5",
   "metadata": {},
   "source": [
    "2.Write a program to create a function that takes two arguments, name and age, and print their value."
   ]
  },
  {
   "cell_type": "code",
   "execution_count": 2,
   "id": "355b5eb1",
   "metadata": {},
   "outputs": [
    {
     "name": "stdout",
     "output_type": "stream",
     "text": [
      "python 25\n"
     ]
    }
   ],
   "source": [
    "def demo(name, age):\n",
    "    # print value\n",
    "    print(name, age)\n",
    "\n",
    "# call function\n",
    "demo(\"python\", 25)"
   ]
  },
  {
   "cell_type": "markdown",
   "id": "917e7bc0",
   "metadata": {},
   "source": [
    "3. Write a program to create function func1() to accept a variable length of arguments and print their value"
   ]
  },
  {
   "cell_type": "code",
   "execution_count": 3,
   "id": "07c5561e",
   "metadata": {},
   "outputs": [
    {
     "name": "stdout",
     "output_type": "stream",
     "text": [
      "20\n",
      "40\n",
      "60\n",
      "80\n",
      "100\n"
     ]
    }
   ],
   "source": [
    "def func1(*args):\n",
    "    for i in args:\n",
    "        print(i)\n",
    "\n",
    "func1(20, 40, 60)\n",
    "func1(80, 100)"
   ]
  },
  {
   "cell_type": "markdown",
   "id": "83127054",
   "metadata": {},
   "source": [
    "4.Write a program to create function calculation() such that it can accept two variables and calculate addition and subtraction. Also, it must return both addition and subtraction in a single return call."
   ]
  },
  {
   "cell_type": "code",
   "execution_count": 4,
   "id": "b57fb297",
   "metadata": {},
   "outputs": [
    {
     "name": "stdout",
     "output_type": "stream",
     "text": [
      "(50, 30)\n"
     ]
    }
   ],
   "source": [
    "def calculation(a, b):\n",
    "    addition = a + b\n",
    "    subtraction = a - b\n",
    "    # return multiple values separated by comma\n",
    "    return addition, subtraction\n",
    "\n",
    "# get result in tuple format\n",
    "res = calculation(40, 10)\n",
    "print(res)"
   ]
  },
  {
   "cell_type": "markdown",
   "id": "f7b1b8e4",
   "metadata": {},
   "source": [
    "5.Write a program to create a function show_employee() using the following conditions.\n",
    "\n",
    "It should accept the employee’s name and salary and display both.\n",
    "\n",
    "If the salary is missing in the function call then assign default value 9000 to salary"
   ]
  },
  {
   "cell_type": "code",
   "execution_count": 5,
   "id": "9cd21f9a",
   "metadata": {},
   "outputs": [
    {
     "name": "stdout",
     "output_type": "stream",
     "text": [
      "Name: Ben salary: 12000\n",
      "Name: Jessa salary: 9000\n"
     ]
    }
   ],
   "source": [
    "# function with default argument\n",
    "def show_employee(name, salary=9000):\n",
    "    print(\"Name:\", name, \"salary:\", salary)\n",
    "\n",
    "show_employee(\"Ben\", 12000)\n",
    "show_employee(\"Jessa\")"
   ]
  },
  {
   "cell_type": "markdown",
   "id": "b12999b7",
   "metadata": {},
   "source": [
    "6. Create an inner function to calculate the addition in the following way\n",
    "\n",
    "Create an outer function that will accept two parameters, a and b\n",
    "\n",
    "Create an inner function inside an outer function that will calculate the addition of a and b\n",
    "\n",
    "At last, an outer function will add 5 into addition and return it"
   ]
  },
  {
   "cell_type": "code",
   "execution_count": 6,
   "id": "54d7b483",
   "metadata": {},
   "outputs": [
    {
     "name": "stdout",
     "output_type": "stream",
     "text": [
      "20\n"
     ]
    }
   ],
   "source": [
    "# outer function\n",
    "def outer_fun(a, b):\n",
    "    square = a ** 2\n",
    "\n",
    "    # inner function\n",
    "    def addition(a, b):\n",
    "        return a + b\n",
    "\n",
    "    # call inner function from outer function\n",
    "    add = addition(a, b)\n",
    "    # add 5 to the result\n",
    "    return add + 5\n",
    "\n",
    "result = outer_fun(5, 10)\n",
    "print(result)"
   ]
  },
  {
   "cell_type": "markdown",
   "id": "f80d667d",
   "metadata": {},
   "source": [
    "7.Write a program to create a recursive function to calculate the sum of numbers from 0 to 10.\n",
    "\n",
    "A recursive function is a function that calls itself again and again."
   ]
  },
  {
   "cell_type": "code",
   "execution_count": 7,
   "id": "57980be6",
   "metadata": {},
   "outputs": [
    {
     "name": "stdout",
     "output_type": "stream",
     "text": [
      "55\n"
     ]
    }
   ],
   "source": [
    "def addition(num):\n",
    "    if num:\n",
    "        # call same function by reducing number by 1\n",
    "        return num + addition(num - 1)\n",
    "    else:\n",
    "        return 0\n",
    "\n",
    "res = addition(10)\n",
    "print(res)"
   ]
  },
  {
   "cell_type": "markdown",
   "id": "d0e9b743",
   "metadata": {},
   "source": [
    "8.Assign a different name to function and call it through the new name"
   ]
  },
  {
   "cell_type": "code",
   "execution_count": 8,
   "id": "41ae2d3c",
   "metadata": {},
   "outputs": [
    {
     "name": "stdout",
     "output_type": "stream",
     "text": [
      "Emma 26\n",
      "Emma 26\n"
     ]
    }
   ],
   "source": [
    "def display_student(name, age):\n",
    "    print(name, age)\n",
    "\n",
    "# call using original name\n",
    "display_student(\"Emma\", 26)\n",
    "\n",
    "# assign new name\n",
    "showStudent = display_student\n",
    "# call using new name\n",
    "showStudent(\"Emma\", 26)"
   ]
  },
  {
   "cell_type": "code",
   "execution_count": 1,
   "id": "6fe4b417",
   "metadata": {},
   "outputs": [],
   "source": [
    "import os\n",
    "import datetime\n",
    "\n",
    "# constants\n",
    "PASSWORD_FILE = 'passwords.txt'\n",
    "\n",
    "def sign_up():\n",
    "  # ask for username and password\n",
    "  username = input(\"Enter a username: \")\n",
    "  password = input(\"Enter a password: \")\n",
    "\n",
    "  # check if username already exists in password file\n",
    "  if username_exists(username):\n",
    "    print(\"The username already exists\")\n",
    "    return\n",
    "\n",
    "  # create a folder for the user\n",
    "  os.makedirs(username)\n",
    "\n",
    "  # add the username and password to the password file\n",
    "  with open(PASSWORD_FILE, 'a') as f:\n",
    "    f.write(f\"{username}:{password}\\n\")\n",
    "\n",
    "def login():\n",
    "  # ask for username and password\n",
    "  username = input(\"Enter your username: \")\n",
    "  password = input(\"Enter your password: \")\n",
    "\n",
    "  # check if the username and password are correct\n",
    "  if not verify_login(username, password):\n",
    "    print(\"Incorrect username or password\")\n",
    "    return\n",
    "\n",
    "  # show options to read or make an entry\n",
    "  while True:\n",
    "    print(\"What would you like to do?\")\n",
    "    print(\"1. Read entries\")\n",
    "    print(\"2. Make an entry\")\n",
    "    print(\"3. Back\")\n",
    "    choice = input(\"Enter your choice: \")\n",
    "\n",
    "    if choice == '1':\n",
    "      read_entry(username)\n",
    "    elif choice == '2':\n",
    "      make_entry(username)\n",
    "    elif choice == '3':\n",
    "      break\n",
    "\n",
    "def read_entry(username):\n",
    "  # get a list of all the files in the user's folder\n",
    "  entries = os.listdir(username)\n",
    "\n",
    "  # show the entries to the user\n",
    "  print(\"Here are your entries:\")\n",
    "  for entry in entries:\n",
    "    print(entry)\n",
    "\n",
    "  # ask the user which entry they want to read\n",
    "  while True:\n",
    "    print(\"Enter the name of the entry you want to read, or 'back' to go back\")\n",
    "    entry_name = input(\"Enter your choice: \")\n",
    "    if entry_name == 'back':\n",
    "      break\n",
    "    elif entry_name in entries:\n",
    "      # read the contents of the entry\n",
    "      with open(f\"{username}/{entry_name}\", 'r') as f:\n",
    "        print(f.read())\n",
    "    else:\n",
    "      print(\"Invalid entry name\")\n",
    "\n",
    "def make_entry(username):\n",
    "  # get the current date as the name for the entry\n",
    "  date = datetime.datetime.now().strftime(\"%Y-%m-%d\")\n",
    "\n",
    "  # ask the user for their diary entry\n",
    "  print(\"Enter your diary entry. Press Enter twice to finish.\")\n",
    "  lines = []\n",
    "  while True:\n",
    "    line = input()\n",
    "    if line == '':\n",
    "      break\n",
    "    lines.append(line)\n",
    "\n",
    "  # save the entry to a file with the current date as the name\n",
    "  with open(f\"{username}/{date}\", 'w') as f:\n",
    "    f.write('\\n'.join(lines))\n",
    "\n",
    "def verify_login(username, password):\n",
    "  # check if the username exists in the password file\n",
    "  if not username_exists(username):\n",
    "    return False\n",
    "\n",
    "  # get the correct password for\n"
   ]
  },
  {
   "cell_type": "code",
   "execution_count": 1,
   "id": "61df2860",
   "metadata": {},
   "outputs": [
    {
     "name": "stdout",
     "output_type": "stream",
     "text": [
      "Happy New Year 2023!\n",
      "Countdown until the new year: 42725 seconds\n"
     ]
    }
   ],
   "source": [
    "import time\n",
    "\n",
    "# Get the current year\n",
    "current_year = time.localtime().tm_year\n",
    "\n",
    "# Calculate the number of seconds until the new year\n",
    "new_year_time = time.mktime((current_year + 1, 1, 1, 0, 0, 0, 0, 0, 0))\n",
    "seconds_until_new_year = new_year_time - time.time()\n",
    "\n",
    "print(f\"Happy New Year {current_year + 1}!\")\n",
    "print(f\"Countdown until the new year: {seconds_until_new_year:.0f} seconds\")\n",
    "\n"
   ]
  },
  {
   "cell_type": "code",
   "execution_count": 1,
   "id": "6b382a51",
   "metadata": {},
   "outputs": [
    {
     "name": "stdout",
     "output_type": "stream",
     "text": [
      "\n",
      "\n",
      "\n",
      "\n",
      "\n",
      "\n",
      "\n",
      "\n",
      "\n",
      "\n",
      "\n",
      "\n",
      "\n",
      "\n",
      "\n",
      "\n",
      "\n",
      "\n",
      "\n",
      "\n",
      "\n",
      "\n",
      "\n",
      "\n",
      "\n",
      "\n",
      "\n",
      "\n",
      "\n",
      "\n",
      "\n",
      "\n",
      "\n",
      "\n",
      "\n",
      "\n",
      "\n",
      "\n",
      "\n",
      "\n",
      "\n",
      "\n",
      "\n",
      "\n",
      "\n",
      "\n",
      "\n",
      "\n",
      "\n",
      "\n",
      "\n",
      "\n",
      "\n",
      "\n",
      "\n",
      "\n",
      "\n",
      "\n",
      "\n",
      "\n",
      "\n",
      "\n",
      "\n",
      "\n",
      "\n",
      "\n",
      "\n",
      "\n",
      "\n",
      "\n",
      "\n",
      "\n",
      "\n",
      "\n",
      "\n",
      "\n",
      "\n",
      "\n",
      "\n",
      "\n",
      "\n",
      "\n",
      "\n",
      "\n",
      "                                                     🔸\n"
     ]
    }
   ],
   "source": [
    "import time\n",
    "from random import randint\n",
    "\n",
    "\n",
    "for i in range(1,85):\n",
    "    print('')\n",
    "\n",
    "space = ''\n",
    "\n",
    "\n",
    "for i in range(1,1000):\n",
    "    count = randint(1, 100)\n",
    "    while(count > 0):\n",
    "        space += ' '\n",
    "        count -= 1\n",
    "\n",
    "    if(i%10==0):\n",
    "        print(space + 'Happy New Year 2022🎉')\n",
    "    elif(i%9 == 0):\n",
    "        print(space + \"🪅\")\n",
    "    elif(i%5==0):\n",
    "        print(space +\"🎈\")\n",
    "    elif(i%8==0):\n",
    "        print(space + \"🎈\")\n",
    "    elif(i%7==0):\n",
    "        print(space + \"🍁\")\n",
    "    elif(i%6==0):\n",
    "        print(space + \"❤️\")\n",
    "    else:\n",
    "        print(space + \"🔸\")\n",
    "\n",
    "    space = ''\n",
    "    time.sleep(0.2)\n",
    "    break"
   ]
  },
  {
   "cell_type": "code",
   "execution_count": 1,
   "id": "ba7eb4d4",
   "metadata": {},
   "outputs": [
    {
     "name": "stdout",
     "output_type": "stream",
     "text": [
      "enter:3\n",
      "3 x 1 = 3\n",
      "3 x 2 = 6\n",
      "3 x 3 = 9\n",
      "3 x 4 = 12\n",
      "3 x 5 = 15\n",
      "3 x 6 = 18\n",
      "3 x 7 = 21\n",
      "3 x 8 = 24\n",
      "3 x 9 = 27\n",
      "3 x 10 = 30\n"
     ]
    }
   ],
   "source": [
    "# 3 table\n",
    "number=int(input(\"enter:\"))\n",
    "for count in range(1,11):\n",
    "    product=number*count\n",
    "    print(number,\"x\",count,\"=\",product)"
   ]
  },
  {
   "cell_type": "code",
   "execution_count": 3,
   "id": "b5c4d4cd",
   "metadata": {},
   "outputs": [
    {
     "name": "stdout",
     "output_type": "stream",
     "text": [
      "enter :5\n",
      "1\n",
      "12\n",
      "123\n",
      "1234\n",
      "12345\n"
     ]
    }
   ],
   "source": [
    "# \n",
    "rows=int(input(\"enter :\"))\n",
    "for i in range(1,rows+1):\n",
    "    for j in range(1,i+1):\n",
    "        print(j,end=\"\")\n",
    "    print()"
   ]
  },
  {
   "cell_type": "markdown",
   "id": "1420a073",
   "metadata": {},
   "source": [
    "1.The first line prompts the user to enter an integer value, which is then stored in the variable \"rows\".\n",
    "\n",
    "2.The outer for loop starts with the variable \"i\" set to 1 and continues until \"i\" is greater than or equal to \"rows\" + 1.\n",
    "\n",
    "3.The inner for loop starts with the variable \"j\" set to 1 and continues until \"j\" is greater than or equal to \"i\" + 1.\n",
    "\n",
    "4.Inside the inner for loop, the current value of \"j\" is printed, followed by an empty string as the \"end\" parameter, which causes the output to be printed on the same line.\n",
    "\n",
    "5.Then inner for loop then prints a newline character, which causes the next iteration of the outer loop to begin on a new line.\n",
    "\n",
    "6.On the next iteration of the outer for loop, the inner for loop will start again, with the current value of \"i\" + 1.\n",
    "\n",
    "7.This process continues until the outer for loop completes its iterations.\n",
    "\n",
    "8.The end result is a sequence of numbers, with each iteration of the outer loop starting on a new line and the numbers being printed on the same line, in ascending order with each iteration.\n",
    "\n",
    "\n",
    "\n"
   ]
  },
  {
   "cell_type": "code",
   "execution_count": null,
   "id": "3f76aa9e",
   "metadata": {},
   "outputs": [],
   "source": []
  }
 ],
 "metadata": {
  "kernelspec": {
   "display_name": "Python 3 (ipykernel)",
   "language": "python",
   "name": "python3"
  },
  "language_info": {
   "codemirror_mode": {
    "name": "ipython",
    "version": 3
   },
   "file_extension": ".py",
   "mimetype": "text/x-python",
   "name": "python",
   "nbconvert_exporter": "python",
   "pygments_lexer": "ipython3",
   "version": "3.9.13"
  }
 },
 "nbformat": 4,
 "nbformat_minor": 5
}
